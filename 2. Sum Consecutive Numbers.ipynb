{
 "cells": [
  {
   "cell_type": "markdown",
   "metadata": {},
   "source": [
    "### Sum of Consecutive Numbers\n",
    "No one likes homework, but your math teacher has given you an assignment to find the sum of the first N numbers.\n",
    "\n",
    "Let’s save some time by creating a program to do the calculation for you!\n",
    "\n",
    "Take a number N as input and output the sum of all numbers from 1 to N (including N).\n",
    "\n",
    "#### Sample Input\n",
    "\n",
    "100\n",
    "\n",
    "#### Sample Output\n",
    "\n",
    "5050\n",
    "\n",
    "Explanation: The sum of all numbers from 1 to 100 is equal to 5050."
   ]
  },
  {
   "cell_type": "code",
   "execution_count": 1,
   "metadata": {},
   "outputs": [
    {
     "name": "stdout",
     "output_type": "stream",
     "text": [
      "100\n",
      "5050\n"
     ]
    }
   ],
   "source": [
    "N = int(input())\n",
    "#your code goes here\n",
    "x=0\n",
    "for i in range (0, N+1):\n",
    "    x+=i\n",
    "print(x)"
   ]
  },
  {
   "cell_type": "code",
   "execution_count": null,
   "metadata": {},
   "outputs": [],
   "source": []
  }
 ],
 "metadata": {
  "kernelspec": {
   "display_name": "Python 3",
   "language": "python",
   "name": "python3"
  },
  "language_info": {
   "codemirror_mode": {
    "name": "ipython",
    "version": 3
   },
   "file_extension": ".py",
   "mimetype": "text/x-python",
   "name": "python",
   "nbconvert_exporter": "python",
   "pygments_lexer": "ipython3",
   "version": "3.7.4"
  }
 },
 "nbformat": 4,
 "nbformat_minor": 2
}
