{
 "cells": [
  {
   "cell_type": "markdown",
   "metadata": {},
   "source": [
    "\n",
    "# Excecises Algorithyms"
   ]
  },
  {
   "cell_type": "markdown",
   "metadata": {},
   "source": [
    "#### Problem:\n",
    "You are making a ticketing system.\n",
    "The price of a single ticket is $100.\n",
    "For children under 3 years of age, the ticket is free.\n",
    "Your program needs to take the ages of 5 passengers as input and output the total price for their tickets."
   ]
  },
  {
   "cell_type": "code",
   "execution_count": 1,
   "metadata": {},
   "outputs": [
    {
     "name": "stdout",
     "output_type": "stream",
     "text": [
      "18\n",
      "24\n",
      "2\n",
      "5\n",
      "42\n",
      "400\n"
     ]
    }
   ],
   "source": [
    "total = 0\n",
    "i = 0\n",
    "\n",
    "while i < 5:\n",
    "    age = int(input())\n",
    "    i = i + 1\n",
    "    if age < 3:\n",
    "            continue\n",
    "    total += 100\n",
    "    \n",
    "print(total)\n"
   ]
  },
  {
   "cell_type": "markdown",
   "metadata": {},
   "source": [
    "There is one child under 3 among the passengers, so the total price of 5 tickets is $400."
   ]
  },
  {
   "cell_type": "code",
   "execution_count": null,
   "metadata": {},
   "outputs": [],
   "source": []
  }
 ],
 "metadata": {
  "kernelspec": {
   "display_name": "Python 3",
   "language": "python",
   "name": "python3"
  },
  "language_info": {
   "codemirror_mode": {
    "name": "ipython",
    "version": 3
   },
   "file_extension": ".py",
   "mimetype": "text/x-python",
   "name": "python",
   "nbconvert_exporter": "python",
   "pygments_lexer": "ipython3",
   "version": "3.7.4"
  }
 },
 "nbformat": 4,
 "nbformat_minor": 2
}
